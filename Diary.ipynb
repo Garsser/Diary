{
 "nbformat": 4,
 "nbformat_minor": 2,
 "metadata": {
  "language_info": {
   "name": "python",
   "codemirror_mode": {
    "name": "ipython",
    "version": 3
   }
  },
  "orig_nbformat": 2,
  "file_extension": ".py",
  "mimetype": "text/x-python",
  "name": "python",
  "npconvert_exporter": "python",
  "pygments_lexer": "ipython3",
  "version": 3
 },
 "cells": [
  {
   "cell_type": "markdown",
   "metadata": {},
   "source": [
    "# Diary - 2020.03.15\n",
    "\n",
    "After Playing one of the new game mode in a very famous game recently called ‘Honor of Kings‘, I find myself cultivating some interest in it, which is so similar with the way how I fell in love with football - get interest in something.\n",
    "\n",
    "What is really weird is that after I find some new tricks of playing this game or some regular patterns, even it is so basic that you are afraid of being laughed by your friends if you tell them your findings. However the process of finding it is really valuable and can make you feel wonderful, like you can do everything no matter how difficult it is after you find this little game trick. \n",
    "How ironic! However this may be not bad for the positive thinking aspect will make you feel so good and you would have the courage to do a more difficult challenge. After you really achieve that, you would have got a much better feeling than this little one now and have much more courage and confidence to challenge next level. That is how people make progress. Hope I can make the progress along this way."
   ]
  }
 ]
}