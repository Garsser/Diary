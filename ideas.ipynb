{
 "nbformat": 4,
 "nbformat_minor": 2,
 "metadata": {
  "language_info": {
   "name": "python",
   "codemirror_mode": {
    "name": "ipython",
    "version": 3
   }
  },
  "orig_nbformat": 2,
  "file_extension": ".py",
  "mimetype": "text/x-python",
  "name": "python",
  "npconvert_exporter": "python",
  "pygments_lexer": "ipython3",
  "version": 3
 },
 "cells": [
  {
   "cell_type": "markdown",
   "metadata": {},
   "source": [
    "# IDEA\n",
    "\n",
    "special ideas about innovative business models & some flash thinking cross into my mind."
   ]
  },
  {
   "cell_type": "markdown",
   "metadata": {},
   "source": [
    "### Github shopping\n",
    "\n",
    "- use Github as a platform to release product info\n",
    "- use data mining to collect product price on  official website(shown on platform)\n",
    "- use data minging to collect coupon price(which only saved to databases and not shown)\n",
    "- "
   ]
  }
 ]
}